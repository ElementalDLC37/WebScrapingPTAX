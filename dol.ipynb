{
 "cells": [
  {
   "cell_type": "code",
   "execution_count": 24,
   "metadata": {},
   "outputs": [],
   "source": [
    "import pandas as pd\n",
    "import bs4 as BeautifulSoup\n",
    "import requests"
   ]
  },
  {
   "cell_type": "code",
   "execution_count": 25,
   "metadata": {},
   "outputs": [
    {
     "name": "stdout",
     "output_type": "stream",
     "text": [
      "        Data  Abertura  Máxima  Mínima  Fechamento  Retornos\n",
      "0 2023-08-02    4.8083  4.8083  4.8083      4.8083  0.006932\n",
      "1 2023-08-01    4.7752  4.7752  4.7752      4.7752  0.007107\n",
      "2 2023-07-31    4.7415  4.7415  4.7415      4.7415  0.003428\n",
      "3 2023-07-28    4.7253  4.7253  4.7253      4.7253  0.001080\n",
      "4 2023-07-27    4.7202  4.7202  4.7202      4.7202 -0.003504\n"
     ]
    }
   ],
   "source": [
    "\n",
    "excel_path = 'C:/Users/lucas/OneDrive/Área de Trabalho/Cálculos de Mercado.xlsx'\n",
    "\n",
    "excel_sheet = 'WDO'\n",
    "excel_data = pd.read_excel(excel_path, sheet_name=excel_sheet)\n",
    "\n",
    "print(excel_data.head()) "
   ]
  },
  {
   "cell_type": "code",
   "execution_count": 61,
   "metadata": {},
   "outputs": [],
   "source": [
    "from selenium import webdriver\n",
    "from selenium.webdriver.common.by import By\n",
    "from selenium.webdriver.support.ui import WebDriverWait\n",
    "from selenium.webdriver.support import expected_conditions as EC\n",
    "\n",
    "# Inicializa o navegador (Google Chrome)\n",
    "driver = webdriver.Chrome()\n",
    "\n",
    "# URL do formulário de pesquisa\n",
    "url_formulario = 'https://ptax.bcb.gov.br/ptax_internet/consultaBoletim.do?method=exibeFormularioConsultaBoletim'\n",
    "\n",
    "# Abre a página do formulário de pesquisa\n",
    "driver.get(url_formulario)\n",
    "\n",
    "botao_pesquisar = WebDriverWait(driver, 10).until(\n",
    "    EC.presence_of_element_located((By.CSS_SELECTOR, 'input[value=\"Pesquisar\"]'))\n",
    ")\n",
    "\n",
    "driver.find_elements(By.NAME, 'RadOpcao')[2].click()\n",
    "data_inicial_input = driver.find_element(By.NAME, 'DATAINI')\n",
    "data_inicial_input.clear()\n",
    "data_inicial_input.send_keys('04082023')\n",
    "\n",
    "driver.find_element(By.CSS_SELECTOR, 'input[value=\"Pesquisar\"]').click()\n",
    "\n",
    "tabela = driver.find_element(By.CLASS_NAME, 'tabela').find_elements(By.TAG_NAME, \"tbody\")[0]\n",
    "\n",
    "print(tabela)\n",
    "\n",
    "\n",
    "\n"
   ]
  }
 ],
 "metadata": {
  "kernelspec": {
   "display_name": "Python 3",
   "language": "python",
   "name": "python3"
  },
  "language_info": {
   "codemirror_mode": {
    "name": "ipython",
    "version": 3
   },
   "file_extension": ".py",
   "mimetype": "text/x-python",
   "name": "python",
   "nbconvert_exporter": "python",
   "pygments_lexer": "ipython3",
   "version": "3.11.4"
  },
  "orig_nbformat": 4
 },
 "nbformat": 4,
 "nbformat_minor": 2
}
