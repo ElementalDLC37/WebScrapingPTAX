{
 "cells": [
  {
   "cell_type": "code",
   "execution_count": 90,
   "metadata": {},
   "outputs": [],
   "source": [
    "from bcb import PTAX\n",
    "import datetime\n",
    "from openpyxl import load_workbook"
   ]
  },
  {
   "cell_type": "code",
   "execution_count": 91,
   "metadata": {},
   "outputs": [],
   "source": [
    "def get_ptax(data):\n",
    "    ptax = PTAX().get_endpoint('CotacaoMoedaDia')\n",
    "    df = (ptax.query().parameters(moeda='USD', dataCotacao=data).collect())\n",
    "    return df['cotacaoVenda'].values\n"
   ]
  },
  {
   "cell_type": "code",
   "execution_count": 92,
   "metadata": {},
   "outputs": [],
   "source": [
    "ptax = get_ptax('02/08/2022')"
   ]
  },
  {
   "cell_type": "code",
   "execution_count": 94,
   "metadata": {},
   "outputs": [],
   "source": [
    "# Adicionar dados no Excel\n",
    "excel_path = 'base.xlsx'\n",
    "book = load_workbook(excel_path)\n",
    "\n",
    "# Adicionar na planilha\n",
    "for col, valor in zip(range(1, 5), ptax):\n",
    "    book['PTAX'].cell(row=2, column=col, value=valor)\n",
    "\n",
    "# Salvar arquivo Excel\n",
    "book.save(datetime.datetime.now().strftime('%d_%m_%Y') + '.xlsx')"
   ]
  }
 ],
 "metadata": {
  "kernelspec": {
   "display_name": "Python 3",
   "language": "python",
   "name": "python3"
  },
  "language_info": {
   "codemirror_mode": {
    "name": "ipython",
    "version": 3
   },
   "file_extension": ".py",
   "mimetype": "text/x-python",
   "name": "python",
   "nbconvert_exporter": "python",
   "pygments_lexer": "ipython3",
   "version": "3.11.4"
  },
  "orig_nbformat": 4
 },
 "nbformat": 4,
 "nbformat_minor": 2
}
